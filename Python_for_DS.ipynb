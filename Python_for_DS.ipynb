{
 "cells": [
  {
   "cell_type": "markdown",
   "id": "716f26f5",
   "metadata": {},
   "source": [
    "<br/><br/>\n",
    "<center> <a style=\"font-size: 40pt; font-weight: bold; color:black\"> DATA SCIENCE BOOTCAMP </a> </center>\n",
    "<br/><br/>\n",
    "<center> <a style=\"font-size: 30pt; font-weight: bold; color:black\"> PYTHON FOR DATA SCIENCE </a> </center>\n",
    "<br/><br/>"
   ]
  },
  {
   "cell_type": "markdown",
   "id": "5c64f470",
   "metadata": {},
   "source": [
    "### Python is a high-level, interpreted programming language known for its simplicity and readability. It was created by Guido van Rossum and first released in 1991."
   ]
  },
  {
   "cell_type": "markdown",
   "id": "bbaea773",
   "metadata": {},
   "source": [
    "### Curriculum:\n",
    "    1. Data types\n",
    "    2. Control flow\n",
    "    3. Functions\n",
    "    4. Libraries (Pandas and Numpy)\n",
    "    "
   ]
  },
  {
   "cell_type": "markdown",
   "id": "297c023d",
   "metadata": {},
   "source": [
    "## Hello World"
   ]
  },
  {
   "cell_type": "code",
   "execution_count": 1,
   "id": "ee413e70",
   "metadata": {},
   "outputs": [
    {
     "name": "stdout",
     "output_type": "stream",
     "text": [
      "hello world\n"
     ]
    }
   ],
   "source": [
    "#The print function for displaying ouput to the screen\n",
    "print('hello world')"
   ]
  },
  {
   "cell_type": "markdown",
   "id": "70b23e96",
   "metadata": {},
   "source": [
    "# 1. Data Types"
   ]
  },
  {
   "cell_type": "markdown",
   "id": "22badef2",
   "metadata": {},
   "source": [
    "* **Integers** - Numbers e.g 1 or 2, represented as **int**\n",
    "* **Floats** - Decimal point numbers e.g 2.45, represented as **floats**\n",
    "* **Strings** -alphabets, words or sentences represented as **str**\n",
    "* **Booleans** - True or False values, repressented as **bool**\n",
    "* **List**- Ordered sequence of objects\n",
    "* **Dictionaries** - \n",
    "* **Sets** -\n",
    "* **Tuples** -"
   ]
  },
  {
   "cell_type": "code",
   "execution_count": 2,
   "id": "0bad82db",
   "metadata": {},
   "outputs": [
    {
     "name": "stdout",
     "output_type": "stream",
     "text": [
      "<class 'int'>\n",
      "<class 'float'>\n",
      "<class 'str'>\n",
      "<class 'bool'>\n"
     ]
    }
   ],
   "source": [
    "#Integers\n",
    "print(type(5))\n",
    "\n",
    "#floats\n",
    "print(type(5.789))\n",
    "      \n",
    "#Strings\n",
    "print(type('john'))\n",
    "\n",
    "#Booleans\n",
    "print(type(True))"
   ]
  },
  {
   "cell_type": "markdown",
   "id": "d6d87282",
   "metadata": {},
   "source": [
    "# Expressions\n",
    "\n",
    "These operations performed by python e.g 54 + 23, in this case the opearands are 54 and 23 and operator is + "
   ]
  },
  {
   "cell_type": "code",
   "execution_count": 3,
   "id": "3ca5c13a",
   "metadata": {},
   "outputs": [
    {
     "name": "stdout",
     "output_type": "stream",
     "text": [
      "14\n",
      "24\n",
      "12\n",
      "9\n",
      "9.0\n",
      "8\n",
      "3\n"
     ]
    }
   ],
   "source": [
    "#Addition\n",
    "print(5 + 9)\n",
    "\n",
    "#Subtraction\n",
    "print(34 - 10)\n",
    "\n",
    "#multiplication\n",
    "print(4 * 3)\n",
    "\n",
    "print(3**2)\n",
    "#division\n",
    "print( 45 / 5)\n",
    "print( 50 // 6)\n",
    "print(43 % 8)\n",
    "\n"
   ]
  },
  {
   "cell_type": "markdown",
   "id": "1ea0799b",
   "metadata": {},
   "source": [
    "# Variables\n",
    "Variables are containers for storing data values\n",
    "Rules for creating variables\n",
    "* Case sensitive\n",
    "* snake case\n",
    "* Cannot start with a number\n",
    "* Do not overwrite keywords"
   ]
  },
  {
   "cell_type": "code",
   "execution_count": 4,
   "id": "23811f56",
   "metadata": {},
   "outputs": [
    {
     "name": "stdout",
     "output_type": "stream",
     "text": [
      "5.0\n"
     ]
    }
   ],
   "source": [
    "#Assigning Variables\n",
    "num_1 = 50\n",
    "num_2 = 10\n",
    "\n",
    "#Performing operations with variables\n",
    "print(num_1 / num_2)"
   ]
  },
  {
   "cell_type": "markdown",
   "id": "b4153760",
   "metadata": {},
   "source": [
    "# String Operations"
   ]
  },
  {
   "cell_type": "markdown",
   "id": "31dcf18b",
   "metadata": {},
   "source": [
    "<img src='python%20doc.png'/>"
   ]
  },
  {
   "cell_type": "code",
   "execution_count": 5,
   "id": "bcbf5281",
   "metadata": {},
   "outputs": [
    {
     "data": {
      "text/plain": [
       "'P'"
      ]
     },
     "execution_count": 5,
     "metadata": {},
     "output_type": "execute_result"
    }
   ],
   "source": [
    "py = 'Python'\n",
    "py[0]"
   ]
  },
  {
   "cell_type": "code",
   "execution_count": 6,
   "id": "a617e1d6",
   "metadata": {},
   "outputs": [
    {
     "data": {
      "text/plain": [
       "6"
      ]
     },
     "execution_count": 6,
     "metadata": {},
     "output_type": "execute_result"
    }
   ],
   "source": [
    "#Functions\n",
    "len(py)"
   ]
  },
  {
   "cell_type": "code",
   "execution_count": 7,
   "id": "a5d18f9f",
   "metadata": {},
   "outputs": [
    {
     "data": {
      "text/plain": [
       "'hon'"
      ]
     },
     "execution_count": 7,
     "metadata": {},
     "output_type": "execute_result"
    }
   ],
   "source": [
    "#slicing\n",
    "py[3:]"
   ]
  },
  {
   "cell_type": "code",
   "execution_count": 8,
   "id": "0dbee2d6",
   "metadata": {},
   "outputs": [
    {
     "name": "stdout",
     "output_type": "stream",
     "text": [
      "IamlearningData science\n"
     ]
    },
    {
     "data": {
      "text/plain": [
       "'Ha Ha Ha '"
      ]
     },
     "execution_count": 8,
     "metadata": {},
     "output_type": "execute_result"
    }
   ],
   "source": [
    "#concatenation\n",
    "skill = 'Data science'\n",
    "print('I' + 'am' + 'learning' + skill)\n",
    "\n",
    "#multiplication\n",
    "'Ha ' * 3"
   ]
  },
  {
   "cell_type": "code",
   "execution_count": 9,
   "id": "3ad14c3d",
   "metadata": {},
   "outputs": [
    {
     "name": "stdout",
     "output_type": "stream",
     "text": [
      "My name is John Doe, I am a 300 level student of the department of Marine Engineering,\n",
      "University Of benin with a current cgpa of 4.3\n",
      "First_class: False\n"
     ]
    }
   ],
   "source": [
    "#fstrings\n",
    "name = 'John Doe'\n",
    "level = 300\n",
    "dept = 'Marine Engineering'\n",
    "cgpa = 4.3\n",
    "first_class = cgpa >= 4.5\n",
    "\n",
    "print(f'''My name is {name}, I am a {level} level student of the department of {dept},\n",
    "University Of benin with a current cgpa of {cgpa}''')\n",
    "print(f'First_class: {first_class}')"
   ]
  },
  {
   "cell_type": "code",
   "execution_count": 10,
   "id": "a558c1b9",
   "metadata": {},
   "outputs": [
    {
     "data": {
      "text/plain": [
       "'python'"
      ]
     },
     "execution_count": 10,
     "metadata": {},
     "output_type": "execute_result"
    }
   ],
   "source": [
    "#strings methods\n",
    "py.upper()\n",
    "py.lower()\n"
   ]
  },
  {
   "cell_type": "code",
   "execution_count": 11,
   "id": "a2687337",
   "metadata": {},
   "outputs": [],
   "source": [
    "column = 'price: $50,000'\n",
    "new_column = column.split(' ')"
   ]
  },
  {
   "cell_type": "code",
   "execution_count": 12,
   "id": "78281756",
   "metadata": {},
   "outputs": [
    {
     "data": {
      "text/plain": [
       "'50,000'"
      ]
     },
     "execution_count": 12,
     "metadata": {},
     "output_type": "execute_result"
    }
   ],
   "source": [
    "new_column[1].replace('$', '')"
   ]
  },
  {
   "cell_type": "code",
   "execution_count": 13,
   "id": "be61ba72",
   "metadata": {},
   "outputs": [
    {
     "data": {
      "text/plain": [
       "50000"
      ]
     },
     "execution_count": 13,
     "metadata": {},
     "output_type": "execute_result"
    }
   ],
   "source": [
    "int(50_000)"
   ]
  },
  {
   "cell_type": "markdown",
   "id": "a86328c5",
   "metadata": {},
   "source": [
    "## Excape sequences"
   ]
  },
  {
   "cell_type": "code",
   "execution_count": 14,
   "id": "a41a6fc1",
   "metadata": {},
   "outputs": [
    {
     "name": "stdout",
     "output_type": "stream",
     "text": [
      "hi \n",
      "This is a new line\n",
      "can you find \t the tab\n"
     ]
    }
   ],
   "source": [
    "print('hi \\nThis is a new line')\n",
    "print('can you find \\t the tab')"
   ]
  },
  {
   "cell_type": "markdown",
   "id": "bb05e6ca",
   "metadata": {},
   "source": [
    "### List"
   ]
  },
  {
   "cell_type": "code",
   "execution_count": 15,
   "id": "3d00f36b",
   "metadata": {},
   "outputs": [],
   "source": [
    "things = list()\n",
    "books = []"
   ]
  },
  {
   "cell_type": "code",
   "execution_count": 16,
   "id": "ed6e3e38",
   "metadata": {},
   "outputs": [
    {
     "data": {
      "text/plain": [
       "['blue', 'green']"
      ]
     },
     "execution_count": 16,
     "metadata": {},
     "output_type": "execute_result"
    }
   ],
   "source": [
    "colors = ['red', 'blue', 'green', 'black']\n",
    "\n",
    "#list slicing\n",
    "colors[1:3]"
   ]
  },
  {
   "cell_type": "code",
   "execution_count": 17,
   "id": "7c30b9c2",
   "metadata": {},
   "outputs": [
    {
     "name": "stdout",
     "output_type": "stream",
     "text": [
      "<class 'list'>\n"
     ]
    }
   ],
   "source": [
    "#matrix #nesting\n",
    "matrix = [\n",
    "    [1, 7, 3, 0],\n",
    "    [0, 6, 2, 8],\n",
    "    [9, 4, 2, 6]\n",
    "]\n",
    "print(type(matrix))"
   ]
  },
  {
   "cell_type": "code",
   "execution_count": 18,
   "id": "44441aff",
   "metadata": {},
   "outputs": [
    {
     "data": {
      "text/plain": [
       "0"
      ]
     },
     "execution_count": 18,
     "metadata": {},
     "output_type": "execute_result"
    }
   ],
   "source": [
    "matrix[0][3]"
   ]
  },
  {
   "cell_type": "markdown",
   "id": "899e3bfb",
   "metadata": {},
   "source": [
    "### List methods\n",
    "<img src='Capture.PNG' />"
   ]
  },
  {
   "cell_type": "code",
   "execution_count": 31,
   "id": "d91b3668",
   "metadata": {},
   "outputs": [],
   "source": [
    "# list methods - methods are actions specific to a data type\n",
    "bag1 = ['books', 'pen', 'ipad']\n",
    "bag2 = ['knife', 'snacks', 'phone']\n",
    "\n",
    "#try important methods on lists"
   ]
  },
  {
   "cell_type": "markdown",
   "id": "3899ad5b",
   "metadata": {},
   "source": [
    "## Tuples\n",
    "Tuples are similar to list but are created with (...,...) or simply comas. They cannot be changed once created.\n",
    "Tuples are ordered collection of data that are immutable"
   ]
  },
  {
   "cell_type": "code",
   "execution_count": 20,
   "id": "f08c6c8b",
   "metadata": {},
   "outputs": [],
   "source": [
    "numbers = (1, 2, 3, 5)\n",
    "#tuple methods are the similar to that of list"
   ]
  },
  {
   "cell_type": "markdown",
   "id": "57a8d26d",
   "metadata": {},
   "source": [
    "### Sets\n",
    "A set is an unordered collection data type that is iterable, mutable and has no duplicate elements. "
   ]
  },
  {
   "cell_type": "code",
   "execution_count": 21,
   "id": "524615f2",
   "metadata": {},
   "outputs": [
    {
     "data": {
      "text/plain": [
       "set"
      ]
     },
     "execution_count": 21,
     "metadata": {},
     "output_type": "execute_result"
    }
   ],
   "source": [
    "var = {\"Geeks\", \"for\", \"Geeks\"}\n",
    "type(var)"
   ]
  },
  {
   "cell_type": "markdown",
   "id": "ebf79e15",
   "metadata": {},
   "source": [
    "### Dict\n",
    "Dictionaries are aimed at storing values of the form key-value with the syntax {key1 : value1, ...}"
   ]
  },
  {
   "cell_type": "code",
   "execution_count": 39,
   "id": "f8b25362",
   "metadata": {},
   "outputs": [
    {
     "name": "stdout",
     "output_type": "stream",
     "text": [
      "{'param1': 1.0, 'param2': True, 'param3': 'red'} <class 'dict'>\n"
     ]
    }
   ],
   "source": [
    "d = {\"param1\" : 1.0, \"param2\" : True, \"param3\" : \"red\"}\n",
    "print(d,type(d))"
   ]
  },
  {
   "cell_type": "code",
   "execution_count": 40,
   "id": "e23f9941",
   "metadata": {},
   "outputs": [
    {
     "name": "stdout",
     "output_type": "stream",
     "text": [
      "1.0\n",
      "{'param1': 2.4, 'param2': True, 'param3': 'red'}\n"
     ]
    }
   ],
   "source": [
    "print(d[\"param1\"])\n",
    "d[\"param1\"] = 2.4\n",
    "print(d)"
   ]
  },
  {
   "cell_type": "markdown",
   "id": "de5f116d",
   "metadata": {},
   "source": [
    "# 2. Control flow\n",
    "## Conditional Statements\n",
    "### If, Elif, Else \n",
    "\n",
    "The  `if:` condition (mind the `:`) represents what is executed if the condition is true. **The indentation is primordial and at the core of Python.**  \n",
    "\n"
   ]
  },
  {
   "cell_type": "code",
   "execution_count": 44,
   "id": "ba3af2f1",
   "metadata": {},
   "outputs": [
    {
     "name": "stdout",
     "output_type": "stream",
     "text": [
      "printed if statement1 is True\n",
      "still inside the if block\n"
     ]
    }
   ],
   "source": [
    "statement1 = True \n",
    "\n",
    "if statement1:\n",
    "    print(\"print if statement1 is True\")\n",
    "    \n",
    "    "
   ]
  },
  {
   "cell_type": "code",
   "execution_count": 45,
   "id": "6cd1b25c",
   "metadata": {},
   "outputs": [
    {
     "name": "stdout",
     "output_type": "stream",
     "text": [
      "statement1 and statement2 are False\n"
     ]
    }
   ],
   "source": [
    "#Acting as inputs\n",
    "statement1 = False\n",
    "statement2 = False\n",
    "\n",
    "if statement1:\n",
    "    print(\"statement1 is True\")\n",
    "elif statement2:\n",
    "    print(\"statement2 is True\")\n",
    "else:\n",
    "    print(\"statement1 and statement2 are False\")"
   ]
  },
  {
   "cell_type": "markdown",
   "id": "04e9c162",
   "metadata": {},
   "source": [
    "### Loops allow us run lines of code over and over again. firstly, lets consider `For loops`"
   ]
  },
  {
   "cell_type": "markdown",
   "id": "ce2cd2cd",
   "metadata": {},
   "source": [
    "## For loop\n",
    "\n",
    "The syntax of `for` loops is `for x in something:` followed by an indentation of one tab which represents what will be executed. \n",
    "\n",
    "The `something` above can be of different nature: list, dictionary, etc. but has to be an iterable"
   ]
  },
  {
   "cell_type": "code",
   "execution_count": 46,
   "id": "b193d6a4",
   "metadata": {},
   "outputs": [
    {
     "name": "stdout",
     "output_type": "stream",
     "text": [
      "1\n",
      "2\n",
      "3\n"
     ]
    }
   ],
   "source": [
    "for x in [1, 2, 3]:\n",
    "    print(x)"
   ]
  },
  {
   "cell_type": "code",
   "execution_count": 3,
   "id": "9c15872d",
   "metadata": {},
   "outputs": [
    {
     "name": "stdout",
     "output_type": "stream",
     "text": [
      "straw_hat\n",
      "pair of trousers\n",
      "bag\n"
     ]
    }
   ],
   "source": [
    "items = ['straw_hat', 'pair of trousers', 'bag']\n",
    "for item in items:\n",
    "    print(item)"
   ]
  },
  {
   "cell_type": "code",
   "execution_count": 47,
   "id": "247d9ce0",
   "metadata": {},
   "outputs": [
    {
     "name": "stdout",
     "output_type": "stream",
     "text": [
      "Python for data Science \n"
     ]
    }
   ],
   "source": [
    "sentence = \"\"\n",
    "for word in [\"Python\", \"for\", \"data\", \"Science\"]:\n",
    "    sentence = sentence + word + \" \"\n",
    "print(sentence)"
   ]
  },
  {
   "cell_type": "code",
   "execution_count": 5,
   "id": "9761fbcd",
   "metadata": {},
   "outputs": [
    {
     "name": "stdout",
     "output_type": "stream",
     "text": [
      "1 a\n",
      "1 b\n",
      "1 c\n",
      "2 a\n",
      "2 b\n",
      "2 c\n",
      "3 a\n",
      "3 b\n",
      "3 c\n",
      "4 a\n",
      "4 b\n",
      "4 c\n"
     ]
    }
   ],
   "source": [
    "#Nested for loops\n",
    "for item in [1, 2, 3, 4]:\n",
    "    for x in ['a', 'b', 'c']:\n",
    "        print(item, x)"
   ]
  },
  {
   "cell_type": "markdown",
   "id": "90d3c050",
   "metadata": {},
   "source": [
    "## Iterables\n",
    "#### An object or collection that can be iterated over, iterables can be list, sets, dictionaries, strings and tuples"
   ]
  },
  {
   "cell_type": "code",
   "execution_count": 6,
   "id": "4550389b",
   "metadata": {},
   "outputs": [
    {
     "name": "stdout",
     "output_type": "stream",
     "text": [
      "Range from 2 (included) to 6 (excluded) \n",
      "2\n",
      "3\n",
      "4\n",
      "5\n",
      "Range from 1 (included) to 12 (excluded) by steps of 3 \n",
      "1\n",
      "4\n",
      "7\n",
      "10\n"
     ]
    }
   ],
   "source": [
    "#Using Range as an iterable \n",
    "\n",
    "print(\"Range from 2 (included) to 6 (excluded) \")\n",
    "for x in range(2,6): \n",
    "    print(x)\n",
    "\n",
    "print(\"Range from 1 (included) to 12 (excluded) by steps of 3 \")\n",
    "for x in range(1,12,3): \n",
    "    print(x)"
   ]
  },
  {
   "cell_type": "markdown",
   "id": "4b7d052e",
   "metadata": {},
   "source": [
    "**If the index is needed along with the value, the function `enumerate` is useful.**"
   ]
  },
  {
   "cell_type": "code",
   "execution_count": 10,
   "id": "95c260a2",
   "metadata": {},
   "outputs": [
    {
     "name": "stdout",
     "output_type": "stream",
     "text": [
      "0 -3\n",
      "1 -2\n",
      "2 -1\n",
      "3 0\n",
      "4 1\n",
      "5 2\n"
     ]
    }
   ],
   "source": [
    "for index, x in enumerate(range(-3,3)):\n",
    "       print(index, x)"
   ]
  },
  {
   "cell_type": "markdown",
   "id": "742a49bd",
   "metadata": {},
   "source": [
    "### Mini Exercise\n",
    "sum up the values in the list `my_list` using a for loop"
   ]
  },
  {
   "cell_type": "code",
   "execution_count": 12,
   "id": "46db079a",
   "metadata": {},
   "outputs": [],
   "source": [
    "#Exercise solution"
   ]
  },
  {
   "cell_type": "markdown",
   "id": "49f4c219",
   "metadata": {},
   "source": [
    "## While loop\n",
    "\n",
    "Similarly to `for` loops, the syntax is`while condition:` followed by an indentation of one tab which represents what will be executed. "
   ]
  },
  {
   "cell_type": "code",
   "execution_count": 11,
   "id": "26873b10",
   "metadata": {},
   "outputs": [
    {
     "name": "stdout",
     "output_type": "stream",
     "text": [
      "0\n"
     ]
    }
   ],
   "source": [
    "i = 0\n",
    "\n",
    "while i<10:\n",
    "    print(i)\n",
    "    break"
   ]
  },
  {
   "cell_type": "markdown",
   "id": "784032dc",
   "metadata": {},
   "source": [
    "#### When do we use a for loop or a while loop?"
   ]
  },
  {
   "cell_type": "markdown",
   "id": "d4709e4e",
   "metadata": {},
   "source": [
    "let's print out the items in the list `numbers` using both for loop and while loop"
   ]
  },
  {
   "cell_type": "code",
   "execution_count": 13,
   "id": "f1a0ea50",
   "metadata": {},
   "outputs": [
    {
     "name": "stdout",
     "output_type": "stream",
     "text": [
      "1\n",
      "2\n",
      "3\n",
      "4\n"
     ]
    }
   ],
   "source": [
    "numbers = [1, 2, 3, 4]\n",
    "\n",
    "#using for loop\n",
    "for i in numbers:\n",
    "    print(i)"
   ]
  },
  {
   "cell_type": "code",
   "execution_count": 16,
   "id": "b56902d0",
   "metadata": {},
   "outputs": [
    {
     "name": "stdout",
     "output_type": "stream",
     "text": [
      "1\n",
      "2\n",
      "3\n",
      "4\n"
     ]
    }
   ],
   "source": [
    "#using while loop\n",
    "i = 0\n",
    "while i < len(numbers):\n",
    "    print(numbers[i])\n",
    "    i += 1"
   ]
  },
  {
   "cell_type": "markdown",
   "id": "6a009317",
   "metadata": {},
   "source": [
    "So take note, for is used when the number of iteration is known"
   ]
  },
  {
   "cell_type": "markdown",
   "id": "87ab0932",
   "metadata": {},
   "source": [
    "# 3. Functions\n",
    "\n",
    "\n",
    "In Python, a function is defined as  `def function_name(function_arguments):` followed by an indentation representing what is inside the function."
   ]
  },
  {
   "cell_type": "code",
   "execution_count": 18,
   "id": "7cb681cd",
   "metadata": {},
   "outputs": [
    {
     "name": "stdout",
     "output_type": "stream",
     "text": [
      "Good Morning\n"
     ]
    }
   ],
   "source": [
    "def greet():\n",
    "    print(\"Good Morning\")\n",
    "\n",
    "greet()"
   ]
  },
  {
   "cell_type": "markdown",
   "id": "cd01cee8",
   "metadata": {},
   "source": [
    "**PARAMETERS AND ARGUMENTS**"
   ]
  },
  {
   "cell_type": "markdown",
   "id": "ee632529",
   "metadata": {},
   "source": [
    "The terms parameter and argument can be used for the same thing: information that are passed into a function. From a function's perspective: A parameter is the variable listed inside the parentheses in the function definition. An argument is the value that is sent to the function when it is called."
   ]
  },
  {
   "cell_type": "code",
   "execution_count": 22,
   "id": "0ef3ca1d",
   "metadata": {},
   "outputs": [
    {
     "name": "stdout",
     "output_type": "stream",
     "text": [
      "Good Morning John Doe\n"
     ]
    }
   ],
   "source": [
    "#Parameters\n",
    "def greet(name):\n",
    "    print(f'Good Morning {name}')\n",
    "#Arguments\n",
    "greet('John Doe')"
   ]
  },
  {
   "cell_type": "markdown",
   "id": "50d98b22",
   "metadata": {},
   "source": [
    "### Default parameters and Keyword arguments\n",
    "Keyword arguments allow us to employ any order, whereas default arguments assist us to deal with the absence of values."
   ]
  },
  {
   "cell_type": "code",
   "execution_count": 23,
   "id": "1713d9cc",
   "metadata": {},
   "outputs": [
    {
     "name": "stdout",
     "output_type": "stream",
     "text": [
      "Good Morning John Doe\n"
     ]
    }
   ],
   "source": [
    "def greet(name='Favour Peters'):\n",
    "    print(f'Good Morning {name}')\n",
    "#Arguments\n",
    "greet(name='John Doe')"
   ]
  },
  {
   "cell_type": "markdown",
   "id": "b2f88c7f",
   "metadata": {},
   "source": [
    "The `return` keyword\n"
   ]
  },
  {
   "cell_type": "code",
   "execution_count": 26,
   "id": "56df2fe3",
   "metadata": {},
   "outputs": [],
   "source": [
    "def powers(x):\n",
    "    \"\"\"\n",
    "    Return the first powers of x.\n",
    "    \"\"\"\n",
    "    return(x ** 2, x ** 3, x ** 4)"
   ]
  },
  {
   "cell_type": "markdown",
   "id": "1d5ebf4d",
   "metadata": {},
   "source": [
    "**Mini Exercise**\n",
    ">\n",
    "> The Fibonacci seqence is a sequence of numbers where the next number in the sequence is the sum of the previous two numbers in the sequence. The sequence looks like this:  1, 2, 3, 5, 8, 13. Write a function that generate a given number of elements of the Fibonacci sequence."
   ]
  },
  {
   "cell_type": "markdown",
   "id": "a0a7933e",
   "metadata": {},
   "source": [
    "# 4. Libraries\n",
    "## NumPy Arrays\n",
    "NumPy arrays are unique in that they are more flexible than normal Python lists. They are called ndarrays since they can have any number (n) of dimensions (d). They hold a collection of items of any one data type and can be either a vector (one-dimensional) or a matrix (multi-dimensional). NumPy arrays allow for fast element access and efficient data manipulation."
   ]
  },
  {
   "cell_type": "code",
   "execution_count": 55,
   "id": "fd0e294a",
   "metadata": {},
   "outputs": [],
   "source": [
    "import numpy as np"
   ]
  },
  {
   "cell_type": "code",
   "execution_count": 58,
   "id": "d0d619c1",
   "metadata": {},
   "outputs": [
    {
     "name": "stdout",
     "output_type": "stream",
     "text": [
      "[1 2 3 4]\n"
     ]
    }
   ],
   "source": [
    "list1 = [1,2,3,4]\n",
    "\n",
    "array1 = np.array(list1)\n",
    "print(array1)"
   ]
  },
  {
   "cell_type": "markdown",
   "id": "3ee23a3f",
   "metadata": {},
   "source": [
    "## Pandas\n",
    "Pandas is a very popular library for working with data. DataFrames are at the center of pandas. A DataFrame is structured like a table or spreadsheet. The rows and the columns both have indexes, and you can perform operations on rows or columns separately.\n",
    "\n",
    "A pandas DataFrame can be easily changed and manipulated. Pandas has helpful functions for handling missing data, performing operations on columns and rows, and transforming data."
   ]
  },
  {
   "cell_type": "markdown",
   "id": "ea28de75",
   "metadata": {},
   "source": [
    "## Pandas Series\n",
    "\n",
    "\n",
    "A Pandas `Series` is a one-dimensional array of indexed data."
   ]
  },
  {
   "cell_type": "code",
   "execution_count": 56,
   "id": "6626ff56",
   "metadata": {},
   "outputs": [
    {
     "data": {
      "text/plain": [
       "0    0.25\n",
       "1    0.50\n",
       "2    0.75\n",
       "3    1.00\n",
       "dtype: float64"
      ]
     },
     "execution_count": 56,
     "metadata": {},
     "output_type": "execute_result"
    }
   ],
   "source": [
    "data = pd.Series([0.25, 0.5, 0.75, 1.0])\n",
    "data"
   ]
  },
  {
   "cell_type": "code",
   "execution_count": 57,
   "id": "2db51911",
   "metadata": {},
   "outputs": [
    {
     "data": {
      "text/plain": [
       "0.25"
      ]
     },
     "execution_count": 57,
     "metadata": {},
     "output_type": "execute_result"
    }
   ],
   "source": [
    "data[0]"
   ]
  },
  {
   "cell_type": "code",
   "execution_count": 59,
   "id": "bf7ac5dd",
   "metadata": {},
   "outputs": [
    {
     "name": "stdout",
     "output_type": "stream",
     "text": [
      "[3 6 1 4]\n"
     ]
    }
   ],
   "source": [
    "toyPrices = np.array([5,8,3,6])\n",
    "print(toyPrices - 2)"
   ]
  },
  {
   "cell_type": "markdown",
   "id": "9ec1cb32",
   "metadata": {},
   "source": [
    "Another important type of object in the pandas library is the DataFrame. This object is similar in form to a matrix as it consists of rows and columns. Both rows and columns can be indexed with integers or String names. One DataFrame can contain many different types of data types, but within a column, everything has to be the same data type. A column of a DataFrame is essentially a Series. All columns must have the same number of elements (rows).\n",
    "\n",
    "There are different ways to fill a DataFrame such as with a CSV file, a SQL query, a Python list, or a dictionary. Here we have created a DataFrame using a Python list of lists. Each nested list represents the data in one row of the DataFrame. We use the keyword columns to pass in the list of our custom column names."
   ]
  },
  {
   "cell_type": "code",
   "execution_count": 39,
   "id": "fc07903c",
   "metadata": {},
   "outputs": [],
   "source": [
    "import pandas as pd\n",
    "dataf = pd.DataFrame([\n",
    "    ['Favour Peters St',34],\n",
    "    ['Jane Doe', '456 Maple Ave',28],\n",
    "    ['George Bush', '789 Broadway',51]\n",
    "    ],\n",
    "    columns=['name','address','age'])"
   ]
  },
  {
   "cell_type": "code",
   "execution_count": 40,
   "id": "ba071376",
   "metadata": {},
   "outputs": [
    {
     "data": {
      "text/html": [
       "<div>\n",
       "<style scoped>\n",
       "    .dataframe tbody tr th:only-of-type {\n",
       "        vertical-align: middle;\n",
       "    }\n",
       "\n",
       "    .dataframe tbody tr th {\n",
       "        vertical-align: top;\n",
       "    }\n",
       "\n",
       "    .dataframe thead th {\n",
       "        text-align: right;\n",
       "    }\n",
       "</style>\n",
       "<table border=\"1\" class=\"dataframe\">\n",
       "  <thead>\n",
       "    <tr style=\"text-align: right;\">\n",
       "      <th></th>\n",
       "      <th>name</th>\n",
       "      <th>address</th>\n",
       "      <th>age</th>\n",
       "    </tr>\n",
       "  </thead>\n",
       "  <tbody>\n",
       "    <tr>\n",
       "      <th>0</th>\n",
       "      <td>Favour Peters St</td>\n",
       "      <td>34</td>\n",
       "      <td>NaN</td>\n",
       "    </tr>\n",
       "    <tr>\n",
       "      <th>1</th>\n",
       "      <td>Jane Doe</td>\n",
       "      <td>456 Maple Ave</td>\n",
       "      <td>28.0</td>\n",
       "    </tr>\n",
       "    <tr>\n",
       "      <th>2</th>\n",
       "      <td>George Bush</td>\n",
       "      <td>789 Broadway</td>\n",
       "      <td>51.0</td>\n",
       "    </tr>\n",
       "  </tbody>\n",
       "</table>\n",
       "</div>"
      ],
      "text/plain": [
       "               name        address   age\n",
       "0  Favour Peters St             34   NaN\n",
       "1          Jane Doe  456 Maple Ave  28.0\n",
       "2       George Bush   789 Broadway  51.0"
      ]
     },
     "execution_count": 40,
     "metadata": {},
     "output_type": "execute_result"
    }
   ],
   "source": [
    "dataf"
   ]
  },
  {
   "cell_type": "code",
   "execution_count": null,
   "id": "194f4746",
   "metadata": {},
   "outputs": [],
   "source": []
  }
 ],
 "metadata": {
  "kernelspec": {
   "display_name": "Python 3 (ipykernel)",
   "language": "python",
   "name": "python3"
  },
  "language_info": {
   "codemirror_mode": {
    "name": "ipython",
    "version": 3
   },
   "file_extension": ".py",
   "mimetype": "text/x-python",
   "name": "python",
   "nbconvert_exporter": "python",
   "pygments_lexer": "ipython3",
   "version": "3.10.9"
  }
 },
 "nbformat": 4,
 "nbformat_minor": 5
}
